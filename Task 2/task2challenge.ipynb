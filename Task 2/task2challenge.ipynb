{
 "cells": [
  {
   "cell_type": "markdown",
   "metadata": {},
   "source": [
    "# Task 2: Challenge\n",
    "\n",
    "\n",
    "## Activity 1\n",
    "\n",
    "In Activity 1, you are tasked with building a binary classifier.\n",
    "The data is generated synthetically.\n",
    "\n",
    "\n",
    "### Evaluation\n",
    "\n",
    "Submissions will be scored according to timely completion.\n",
    "The solution file should be in a CSV format.\n",
    "\n",
    "\n",
    "### File Descriptions\n",
    "\n",
    " * `task2training.csv` – the training data\n",
    " * `task2testing.csv` – the test data\n",
    " \n",
    "\n",
    "### Deliverables\n",
    "\n",
    "User submissions are evaluated by comparing their submission CSV to the ground truth solution CSV with respect to Categorization Accuracy.\n",
    "Documents to be submitted are as follows.\n",
    "\n",
    "__GitHub__: Every student should commit and push files.\n",
    " 1. A pediction file `task2testing.csv`; till column ```Class``` in the testing file.\n",
    " 2. Jupyter notebook code `task2challenge.ipynb` or Python code."
   ]
  },
  {
   "cell_type": "code",
   "execution_count": 9,
   "metadata": {
    "scrolled": true
   },
   "outputs": [
    {
     "name": "stdout",
     "output_type": "stream",
     "text": [
      "   Id     Value  Class\n",
      "0   0  1.222166    0.0\n",
      "1   1 -1.189581    0.0\n",
      "2   2 -2.207192    0.0\n",
      "3   3 -0.269256    0.0\n",
      "4   4  0.229596    0.0\n"
     ]
    },
    {
     "data": {
      "image/png": "[encoded data removed]",
      "text/plain": [
       "<Figure size 432x288 with 1 Axes>"
      ]
     },
     "metadata": {
      "needs_background": "light"
     },
     "output_type": "display_data"
    },
    {
     "data": {
      "image/png": "[encoded data removed]",
      "text/plain": [
       "<Figure size 432x288 with 1 Axes>"
      ]
     },
     "metadata": {
      "needs_background": "light"
     },
     "output_type": "display_data"
    }
   ],
   "source": [
    "import pandas as pd\n",
    "import numpy as np\n",
    "import matplotlib.pyplot as plt\n",
    "\n",
    "training_df = pd.read_csv('task2training.csv')\n",
    "\n",
    "print(training_df.head())\n",
    "\n",
    "training_data = training_df[['Value']].values\n",
    "training_class = training_df[['Class']].values\n",
    "training_data0 = training_df.loc[training_df['Class'] == 0, 'Value']\n",
    "training_data1 = training_df.loc[training_df['Class'] == 1, 'Value']\n",
    "\n",
    "plt.hist(training_data0, bins='auto', color='blue')\n",
    "plt.show()\n",
    "\n",
    "plt.hist(training_data1, bins='auto', color='red')\n",
    "plt.show()"
   ]
  },
  {
   "cell_type": "code",
   "execution_count": 11,
   "metadata": {},
   "outputs": [
    {
     "name": "stdout",
     "output_type": "stream",
     "text": [
      "   Id     Value  Class\n",
      "0   0  1.222166    0.0\n",
      "1   1 -1.189581    0.0\n",
      "2   2 -2.207192    0.0\n",
      "3   3 -0.269256    0.0\n",
      "4   4  0.229596    0.0\n",
      "   Id     Value  Class\n",
      "0   0  1.529958    1.0\n",
      "1   1 -0.051663    0.0\n",
      "2   2 -0.876252    0.0\n",
      "3   3  0.073839    0.0\n",
      "4   4  1.029357    1.0\n"
     ]
    }
   ],
   "source": [
    "testing_df = pd.read_csv('task2testing.csv')\n",
    "\n",
    "print(training_df.head())\n",
    "\n",
    "# Write code for binary classifier here\n",
    "\n",
    "# The above two plots resemble normal distribution so we use Gaussian Naive Bayes function as a classifier\n",
    "from sklearn.naive_bayes import GaussianNB\n",
    "\n",
    "class_label=training_df['Class']\n",
    "\n",
    "clf=GaussianNB()\n",
    "model=clf.fit(training_data,class_label)\n",
    "\n",
    "testing_data  = testing_df[['Value']].values\n",
    "\n",
    "pred = clf.predict(testing_data)\n",
    "\n",
    "testing_df['Class']=pred\n",
    "\n",
    "print(testing_df.head())\n",
    "\n",
    "# Uncomment when you are ready to write your solution\n",
    "testing_df.to_csv('task2testing.csv', index=False)"
   ]
  },
  {
   "cell_type": "markdown",
   "metadata": {},
   "source": [
    "Upon successful completion of this task, you should add and commit your modifications to your local repository, then pull the latest revisions from the master repository, and push your contribution to the remote repositiory."
   ]
  }
 ],
 "metadata": {
  "kernelspec": {
   "display_name": "Python 3",
   "language": "python",
   "name": "python3"
  },
  "language_info": {
   "codemirror_mode": {
    "name": "ipython",
    "version": 3
   },
   "file_extension": ".py",
   "mimetype": "text/x-python",
   "name": "python",
   "nbconvert_exporter": "python",
   "pygments_lexer": "ipython3",
   "version": "3.7.3"
  }
 },
 "nbformat": 4,
 "nbformat_minor": 2
}
