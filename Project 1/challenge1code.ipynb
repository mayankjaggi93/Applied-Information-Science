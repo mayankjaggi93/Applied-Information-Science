{
 "cells": [
  {
   "cell_type": "markdown",
   "metadata": {},
   "source": [
    "# Challenge 1\n",
    "\n",
    "\n",
    "## [Kaggle Tutorials](https://www.kaggle.com/learn/overview)\n",
    "\n",
    " * __Complete__ [Maching Learning course](https://www.kaggle.com/learn/intro-to-machine-learning), if needed\n",
    "\n",
    "\n",
    "## Activity: Default Payments of Credit Card Clients\n",
    "\n",
    "This competition is a based on the [UCI](https://www.kaggle.com/uciml) data on [Default Payments of Credit Card Clients in Taiwan](https://www.kaggle.com/uciml/default-of-credit-card-clients-dataset).\n",
    "The general goal is to become familiar with logistic regression.\n",
    "This will be accomplished by applying logistic regression to the prediction of default payments.\n",
    "The task is to identify the correct digit for every row in the test set.\n",
    "\n",
    "**Logistic Regression**: The hypothesis class associated with logistic regression is the composition of a sigmoid function $\\phi_{\\mathrm{sig}}: \\mathbb{R} \\rightarrow [0, 1]$ over the class of linear functions.\n",
    "In particular, the sigmoid function used in logistic regression is the logistic function, defined as\n",
    "$$\\phi_{\\mathrm{sig}}(z) = \\frac{1}{1 + \\exp(-z)}.$$\n",
    "The classification process is defined through the inner products $\\langle \\mathbf{w}_i, \\mathbf{x} \\rangle$, $i \\in \\{ 0, \\ldots, 9 \\}$ with\n",
    "$$\\begin{split}\n",
    "y &= \\arg \\max_i \\phi_{\\mathrm{sig}} \\left( \\langle \\mathbf{w}_i, \\mathbf{x} \\rangle \\right) \\\\\n",
    "&= \\arg \\max_i \\frac{1}{1 + \\exp \\left( - \\langle \\mathbf{w}_i, \\mathbf{x} \\rangle \\right)}.\n",
    "\\end{split}$$\n",
    "The task, then, is to identify the collection of vectors $\\{ \\mathbf{w}_i \\}$.\n",
    "\n",
    "\n",
    "### Evaluation\n",
    "\n",
    "Submissions will be scored according to Categorization Accuracy. This Kaggle Metric requires the following columns: `Id (String)` an `Default (String)`. The solution file should be in a CSV format.\n",
    "\n",
    "\n",
    "### File Descriptions\n",
    "\n",
    " * `challenge1training.csv` – training set\n",
    " * `challenge1testing.csv` – test set\n",
    "\n",
    "\n",
    "### Deliverables\n",
    "\n",
    "User submissions are evaluated by comparing their submission CSV to the ground truth solution CSV with respect to Categorization Accuracy.\n",
    "This Metric requires the following columns: `Id (String)` and `Default (String)`.\n",
    "On GitHub, you should submit the following items.\n",
    "\n",
    " 1. challenge1solution.csv – solution in Kaggle format\n",
    " 2. challenge1vector.csv – a vector solution for logistic regression $\\{ \\mathbf{w}_i \\}$"
   ]
  },
  {
   "cell_type": "code",
   "execution_count": 95,
   "metadata": {},
   "outputs": [],
   "source": [
    "import pandas as pd\n",
    "import numpy as np\n",
    "from sklearn.linear_model import LogisticRegression\n",
    "\n",
    "df_train = pd.read_csv('challenge1training.csv')\n",
    "df_test = pd.read_csv('challenge1testing.csv')\n",
    "df_solution = pd.read_csv('challenge1sample.csv')\n",
    "df_vector = pd.read_csv('challenge1vector.csv')\n",
    "\n",
    "#print(df_train.head())\n",
    "#print(df_test.head())\n",
    "#print(df_solution.head())\n",
    "#print(df_vector.head())\n"
   ]
  },
  {
   "cell_type": "code",
   "execution_count": 96,
   "metadata": {
    "scrolled": false
   },
   "outputs": [
    {
     "name": "stdout",
     "output_type": "stream",
     "text": [
      "{'Id': array([    1,     2,     3, ..., 23998, 23999, 24000], dtype=int64), 'LIMIT_BAL': array([ 300000,   20000,   80000,  110000,  140000,  180000,  260000,\n",
      "        500000,  210000,  200000,  160000,  310000,  340000,   60000,\n",
      "        250000,   50000,  170000,  150000,  100000,  230000,  120000,\n",
      "         10000,   30000,  480000,  190000,  600000,  270000,   70000,\n",
      "        330000,  400000,  320000,  360000,  390000,  470000,  350000,\n",
      "        420000,  290000,  220000,   90000,  460000,  380000,  240000,\n",
      "        130000,  450000,  280000,  410000,   40000,  440000,  430000,\n",
      "        550000,  520000,  490000,  370000,  610000,  580000,  650000,\n",
      "        530000,  570000,  750000,  670000,  560000,  510000,  640000,\n",
      "        540000,  630000,  740000,  700000,  710000,  720000,  780000,\n",
      "        590000,  660000,  620000,  327680,  760000,  680000,  800000,\n",
      "       1000000,  730000], dtype=int64), 'SEX': array([2, 1], dtype=int64), 'EDUCATION': array([2, 1, 4, 3, 5, 6, 0], dtype=int64), 'MARRIAGE': array([2, 1, 3, 0], dtype=int64), 'AGE': array([35, 24, 22, 60, 48, 37, 45, 29, 49, 27, 39, 33, 25, 38, 31, 41, 34,\n",
      "       40, 30, 43, 50, 54, 36, 59, 26, 58, 52, 56, 23, 28, 55, 44, 32, 42,\n",
      "       51, 47, 53, 21, 46, 57, 65, 62, 66, 63, 68, 73, 67, 64, 61, 71, 70,\n",
      "       69, 75, 74, 79, 72], dtype=int64), 'PAY_1': array([ 0,  1, -2, -1,  2,  4,  3,  8,  7,  6,  5], dtype=int64), 'PAY_2': array([ 0,  2, -2, -1,  3,  4,  7,  1,  5,  6,  8], dtype=int64), 'PAY_3': array([ 0, -2, -1,  2,  3,  4,  7,  6,  1,  5,  8], dtype=int64), 'PAY_4': array([ 0, -2, -1,  2,  5,  3,  7,  4,  8,  1,  6], dtype=int64), 'PAY_5': array([ 0,  2, -2, -1,  3,  4,  7,  5,  8,  6], dtype=int64), 'PAY_6': array([ 0,  2, -2, -1,  3,  7,  6,  4,  5,  8], dtype=int64), 'BILL_AMT1': array([ 86574,  13359,   9498, ..., 165369,  68375,   4920], dtype=int64), 'BILL_AMT2': array([ 86821,  14438,   9202, ..., 125084,  71660,   5937], dtype=int64), 'BILL_AMT3': array([ 88072,  15461,  10741, ...,  65747, 119946,  66948], dtype=int64), 'BILL_AMT4': array([ 76722,  16200,  12326, ...,  67046, 114977,  30406], dtype=int64), 'BILL_AMT5': array([69922, 16936, 11888, ..., 88757, 29128,  8108], dtype=int64), 'BILL_AMT6': array([23926, 17273,  9351, ..., 74800, 84936, 23597], dtype=int64), 'PAY_AMT1': array([ 3219,  1300,     0, ...,  8478, 18785,  4402], dtype=int64), 'PAY_AMT2': array([ 3417,  1270,  2000, ...,   912, 10742,  4971], dtype=int64), 'PAY_AMT3': array([ 1926,  1000,  1800, ...,  7086, 26500, 37171], dtype=int64), 'PAY_AMT4': array([ 1545,  1000,     0, ..., 13734,  7241,  2997], dtype=int64), 'PAY_AMT5': array([  797,   619,   900, ...,   874, 10060, 31453], dtype=int64), 'PAY_AMT6': array([ 9190,   800,     0, ..., 12333,  8753,   613], dtype=int64), 'Default': array([0, 1], dtype=int64)}\n"
     ]
    }
   ],
   "source": [
    "#train data\n",
    "d={}\n",
    "for col in df_train:\n",
    "    d[col]=df_train[col].unique()\n",
    "print(d)"
   ]
  },
  {
   "cell_type": "code",
   "execution_count": 97,
   "metadata": {},
   "outputs": [
    {
     "name": "stdout",
     "output_type": "stream",
     "text": [
      "{'Id': array([   1,    2,    3, ..., 5998, 5999, 6000], dtype=int64), 'LIMIT_BAL': array([320000, 450000,  50000, 220000,  20000, 500000, 120000, 130000,\n",
      "       100000,  10000,  90000, 550000, 360000, 200000, 430000, 290000,\n",
      "       460000, 230000, 170000, 270000, 260000, 400000, 140000, 280000,\n",
      "       240000, 150000,  30000, 160000, 440000, 370000,  80000, 420000,\n",
      "       190000,  70000, 480000,  60000, 410000, 310000, 110000, 390000,\n",
      "       300000, 380000, 250000, 490000, 210000, 180000, 350000, 330000,\n",
      "       340000,  40000, 610000, 470000, 700000, 620000, 560000, 740000,\n",
      "       580000, 510000, 640000, 720000, 520000, 680000, 800000, 540000,\n",
      "       570000, 660000, 710000, 600000, 630000,  16000, 590000, 690000],\n",
      "      dtype=int64), 'SEX': array([1, 2], dtype=int64), 'EDUCATION': array([1, 2, 3, 6, 5, 4, 0], dtype=int64), 'MARRIAGE': array([2, 1, 0, 3], dtype=int64), 'AGE': array([38, 41, 34, 33, 39, 31, 24, 47, 22, 32, 42, 29, 35, 44, 43, 50, 53,\n",
      "       30, 25, 48, 36, 23, 28, 45, 46, 55, 26, 40, 27, 49, 62, 52, 21, 51,\n",
      "       37, 54, 65, 64, 58, 56, 69, 60, 57, 59, 67, 63, 66, 61, 73, 68, 72,\n",
      "       71, 70], dtype=int64), 'PAY_1': array([-1,  0, -2,  1,  2,  4,  3,  5,  6,  8,  7], dtype=int64), 'PAY_2': array([-1,  0, -2,  2,  4,  3,  1,  5,  6,  7], dtype=int64), 'PAY_3': array([-1,  0, -2,  2,  3,  4,  5,  6,  7,  8], dtype=int64), 'PAY_4': array([-1,  0, -2,  2,  4,  3,  7,  5], dtype=int64), 'PAY_5': array([-1,  0,  2, -2,  3,  7,  4,  5,  6], dtype=int64), 'PAY_6': array([-1,  0, -2,  2,  3,  7,  6,  5,  4], dtype=int64), 'BILL_AMT1': array([  3872,  70825,  44168, ...,  26319,  40199, 105418], dtype=int64), 'BILL_AMT2': array([  5409,  17236,  44727, ...,  13915,  39218, 107689], dtype=int64), 'BILL_AMT3': array([ 16770,   8680,  26135, ...,  18667,  35464, 109678], dtype=int64), 'BILL_AMT4': array([ 83490, 113233,  26730, ...,  18072,  30456, 110887], dtype=int64), 'BILL_AMT5': array([     0,   5907,  12180, ...,  18120,  29420, 111871], dtype=int64), 'BILL_AMT6': array([ 52281,      0,  18179, ...,  19329,  27102, 114223], dtype=int64), 'PAY_AMT1': array([ 5409, 17913,  1410, ...,  6502,  3288,  2388], dtype=int64), 'PAY_AMT2': array([16778,  9278,  2000, ...,  3508,  2207,   164], dtype=int64), 'PAY_AMT3': array([ 83490, 114865,   1167, ...,   4340,   1783,   1369], dtype=int64), 'PAY_AMT4': array([    0,  6411,  1017, ..., 20004,  1339, 36565], dtype=int64), 'PAY_AMT5': array([52281,     0, 18179, ...,  1387,   132,  1497], dtype=int64), 'PAY_AMT6': array([15643,     0,   651, ...,  1395,   428, 23700], dtype=int64)}\n"
     ]
    }
   ],
   "source": [
    "#test data\n",
    "d1={}\n",
    "for col in df_test:\n",
    "    d1[col]=df_test[col].unique()\n",
    "print(d1)"
   ]
  },
  {
   "cell_type": "markdown",
   "metadata": {},
   "source": [
    "A few categorical attributes such as Education, Marriage there are incorrect entries which need to be replaced in train and test dataframes"
   ]
  },
  {
   "cell_type": "markdown",
   "metadata": {},
   "source": [
    "## Replace"
   ]
  },
  {
   "cell_type": "markdown",
   "metadata": {},
   "source": [
    "### Education"
   ]
  },
  {
   "cell_type": "code",
   "execution_count": 98,
   "metadata": {},
   "outputs": [
    {
     "data": {
      "text/plain": [
       "2    11245\n",
       "1     8417\n",
       "3     3974\n",
       "5      213\n",
       "4       95\n",
       "6       44\n",
       "0       12\n",
       "Name: EDUCATION, dtype: int64"
      ]
     },
     "execution_count": 98,
     "metadata": {},
     "output_type": "execute_result"
    }
   ],
   "source": [
    "df_train['EDUCATION'].value_counts()\n",
    "# Education with 0,5 and 6 as the entry are replaced with 4 as it is categorized as others. Thus having only unique categories\n",
    "#under education"
   ]
  },
  {
   "cell_type": "code",
   "execution_count": 99,
   "metadata": {
    "scrolled": false
   },
   "outputs": [
    {
     "data": {
      "text/plain": [
       "2    11245\n",
       "1     8417\n",
       "3     3974\n",
       "4      364\n",
       "Name: EDUCATION, dtype: int64"
      ]
     },
     "execution_count": 99,
     "metadata": {},
     "output_type": "execute_result"
    }
   ],
   "source": [
    "#train data\n",
    "df_train['EDUCATION']=df_train['EDUCATION'].replace(to_replace=[0,5,6],value=4)\n",
    "df_train['EDUCATION'].value_counts()"
   ]
  },
  {
   "cell_type": "code",
   "execution_count": 100,
   "metadata": {},
   "outputs": [
    {
     "data": {
      "text/plain": [
       "2    2785\n",
       "1    2168\n",
       "3     943\n",
       "4     104\n",
       "Name: EDUCATION, dtype: int64"
      ]
     },
     "execution_count": 100,
     "metadata": {},
     "output_type": "execute_result"
    }
   ],
   "source": [
    "#test data\n",
    "df_test['EDUCATION']=df_test['EDUCATION'].replace(to_replace=[0,5,6],value=4)\n",
    "df_test['EDUCATION'].value_counts()"
   ]
  },
  {
   "cell_type": "markdown",
   "metadata": {},
   "source": [
    "### Marriage"
   ]
  },
  {
   "cell_type": "code",
   "execution_count": 101,
   "metadata": {
    "scrolled": true
   },
   "outputs": [
    {
     "data": {
      "text/plain": [
       "2    12798\n",
       "1    10899\n",
       "3      256\n",
       "0       47\n",
       "Name: MARRIAGE, dtype: int64"
      ]
     },
     "execution_count": 101,
     "metadata": {},
     "output_type": "execute_result"
    }
   ],
   "source": [
    "df_train['MARRIAGE'].value_counts()\n",
    "# Marriage with 0 as the entry are replaced with 3 as it is categorized as others"
   ]
  },
  {
   "cell_type": "code",
   "execution_count": 102,
   "metadata": {
    "scrolled": true
   },
   "outputs": [
    {
     "data": {
      "text/plain": [
       "2    12798\n",
       "1    10899\n",
       "3      303\n",
       "Name: MARRIAGE, dtype: int64"
      ]
     },
     "execution_count": 102,
     "metadata": {},
     "output_type": "execute_result"
    }
   ],
   "source": [
    "#train data\n",
    "df_train['MARRIAGE']=df_train['MARRIAGE'].replace(to_replace=0,value=3)\n",
    "df_train['MARRIAGE'].value_counts()"
   ]
  },
  {
   "cell_type": "code",
   "execution_count": 103,
   "metadata": {},
   "outputs": [
    {
     "data": {
      "text/plain": [
       "2    3166\n",
       "1    2760\n",
       "3      74\n",
       "Name: MARRIAGE, dtype: int64"
      ]
     },
     "execution_count": 103,
     "metadata": {},
     "output_type": "execute_result"
    }
   ],
   "source": [
    "#test data\n",
    "df_test['MARRIAGE']=df_test['MARRIAGE'].replace(to_replace=0,value=3)\n",
    "df_test['MARRIAGE'].value_counts()"
   ]
  },
  {
   "cell_type": "code",
   "execution_count": 104,
   "metadata": {
    "scrolled": true
   },
   "outputs": [
    {
     "data": {
      "text/html": [
       "<div>\n",
       "<style scoped>\n",
       "    .dataframe tbody tr th:only-of-type {\n",
       "        vertical-align: middle;\n",
       "    }\n",
       "\n",
       "    .dataframe tbody tr th {\n",
       "        vertical-align: top;\n",
       "    }\n",
       "\n",
       "    .dataframe thead th {\n",
       "        text-align: right;\n",
       "    }\n",
       "</style>\n",
       "<table border=\"1\" class=\"dataframe\">\n",
       "  <thead>\n",
       "    <tr style=\"text-align: right;\">\n",
       "      <th></th>\n",
       "      <th>Id</th>\n",
       "      <th>LIMIT_BAL</th>\n",
       "      <th>SEX</th>\n",
       "      <th>EDUCATION</th>\n",
       "      <th>MARRIAGE</th>\n",
       "      <th>AGE</th>\n",
       "      <th>PAY_1</th>\n",
       "      <th>PAY_2</th>\n",
       "      <th>PAY_3</th>\n",
       "      <th>PAY_4</th>\n",
       "      <th>...</th>\n",
       "      <th>BILL_AMT4</th>\n",
       "      <th>BILL_AMT5</th>\n",
       "      <th>BILL_AMT6</th>\n",
       "      <th>PAY_AMT1</th>\n",
       "      <th>PAY_AMT2</th>\n",
       "      <th>PAY_AMT3</th>\n",
       "      <th>PAY_AMT4</th>\n",
       "      <th>PAY_AMT5</th>\n",
       "      <th>PAY_AMT6</th>\n",
       "      <th>Default</th>\n",
       "    </tr>\n",
       "  </thead>\n",
       "  <tbody>\n",
       "    <tr>\n",
       "      <th>0</th>\n",
       "      <td>1</td>\n",
       "      <td>300000</td>\n",
       "      <td>2</td>\n",
       "      <td>2</td>\n",
       "      <td>2</td>\n",
       "      <td>35</td>\n",
       "      <td>0</td>\n",
       "      <td>0</td>\n",
       "      <td>0</td>\n",
       "      <td>0</td>\n",
       "      <td>...</td>\n",
       "      <td>76722</td>\n",
       "      <td>69922</td>\n",
       "      <td>23926</td>\n",
       "      <td>3219</td>\n",
       "      <td>3417</td>\n",
       "      <td>1926</td>\n",
       "      <td>1545</td>\n",
       "      <td>797</td>\n",
       "      <td>9190</td>\n",
       "      <td>0</td>\n",
       "    </tr>\n",
       "    <tr>\n",
       "      <th>1</th>\n",
       "      <td>2</td>\n",
       "      <td>20000</td>\n",
       "      <td>1</td>\n",
       "      <td>1</td>\n",
       "      <td>2</td>\n",
       "      <td>24</td>\n",
       "      <td>0</td>\n",
       "      <td>0</td>\n",
       "      <td>0</td>\n",
       "      <td>0</td>\n",
       "      <td>...</td>\n",
       "      <td>16200</td>\n",
       "      <td>16936</td>\n",
       "      <td>17273</td>\n",
       "      <td>1300</td>\n",
       "      <td>1270</td>\n",
       "      <td>1000</td>\n",
       "      <td>1000</td>\n",
       "      <td>619</td>\n",
       "      <td>800</td>\n",
       "      <td>1</td>\n",
       "    </tr>\n",
       "    <tr>\n",
       "      <th>2</th>\n",
       "      <td>3</td>\n",
       "      <td>20000</td>\n",
       "      <td>2</td>\n",
       "      <td>2</td>\n",
       "      <td>2</td>\n",
       "      <td>22</td>\n",
       "      <td>1</td>\n",
       "      <td>2</td>\n",
       "      <td>0</td>\n",
       "      <td>0</td>\n",
       "      <td>...</td>\n",
       "      <td>12326</td>\n",
       "      <td>11888</td>\n",
       "      <td>9351</td>\n",
       "      <td>0</td>\n",
       "      <td>2000</td>\n",
       "      <td>1800</td>\n",
       "      <td>0</td>\n",
       "      <td>900</td>\n",
       "      <td>0</td>\n",
       "      <td>1</td>\n",
       "    </tr>\n",
       "    <tr>\n",
       "      <th>3</th>\n",
       "      <td>4</td>\n",
       "      <td>80000</td>\n",
       "      <td>1</td>\n",
       "      <td>1</td>\n",
       "      <td>1</td>\n",
       "      <td>60</td>\n",
       "      <td>0</td>\n",
       "      <td>0</td>\n",
       "      <td>0</td>\n",
       "      <td>0</td>\n",
       "      <td>...</td>\n",
       "      <td>0</td>\n",
       "      <td>0</td>\n",
       "      <td>0</td>\n",
       "      <td>3300</td>\n",
       "      <td>6267</td>\n",
       "      <td>0</td>\n",
       "      <td>0</td>\n",
       "      <td>0</td>\n",
       "      <td>4189</td>\n",
       "      <td>0</td>\n",
       "    </tr>\n",
       "    <tr>\n",
       "      <th>4</th>\n",
       "      <td>5</td>\n",
       "      <td>300000</td>\n",
       "      <td>1</td>\n",
       "      <td>2</td>\n",
       "      <td>1</td>\n",
       "      <td>48</td>\n",
       "      <td>1</td>\n",
       "      <td>-2</td>\n",
       "      <td>-2</td>\n",
       "      <td>-2</td>\n",
       "      <td>...</td>\n",
       "      <td>0</td>\n",
       "      <td>0</td>\n",
       "      <td>0</td>\n",
       "      <td>0</td>\n",
       "      <td>0</td>\n",
       "      <td>0</td>\n",
       "      <td>0</td>\n",
       "      <td>0</td>\n",
       "      <td>0</td>\n",
       "      <td>0</td>\n",
       "    </tr>\n",
       "  </tbody>\n",
       "</table>\n",
       "<p>5 rows × 25 columns</p>\n",
       "</div>"
      ],
      "text/plain": [
       "   Id  LIMIT_BAL  SEX  EDUCATION  MARRIAGE  AGE  PAY_1  PAY_2  PAY_3  PAY_4  \\\n",
       "0   1     300000    2          2         2   35      0      0      0      0   \n",
       "1   2      20000    1          1         2   24      0      0      0      0   \n",
       "2   3      20000    2          2         2   22      1      2      0      0   \n",
       "3   4      80000    1          1         1   60      0      0      0      0   \n",
       "4   5     300000    1          2         1   48      1     -2     -2     -2   \n",
       "\n",
       "   ...  BILL_AMT4  BILL_AMT5  BILL_AMT6  PAY_AMT1  PAY_AMT2  PAY_AMT3  \\\n",
       "0  ...      76722      69922      23926      3219      3417      1926   \n",
       "1  ...      16200      16936      17273      1300      1270      1000   \n",
       "2  ...      12326      11888       9351         0      2000      1800   \n",
       "3  ...          0          0          0      3300      6267         0   \n",
       "4  ...          0          0          0         0         0         0   \n",
       "\n",
       "   PAY_AMT4  PAY_AMT5  PAY_AMT6  Default  \n",
       "0      1545       797      9190        0  \n",
       "1      1000       619       800        1  \n",
       "2         0       900         0        1  \n",
       "3         0         0      4189        0  \n",
       "4         0         0         0        0  \n",
       "\n",
       "[5 rows x 25 columns]"
      ]
     },
     "execution_count": 104,
     "metadata": {},
     "output_type": "execute_result"
    }
   ],
   "source": [
    "df_train.head()"
   ]
  },
  {
   "cell_type": "code",
   "execution_count": 105,
   "metadata": {
    "scrolled": true
   },
   "outputs": [
    {
     "data": {
      "text/html": [
       "<div>\n",
       "<style scoped>\n",
       "    .dataframe tbody tr th:only-of-type {\n",
       "        vertical-align: middle;\n",
       "    }\n",
       "\n",
       "    .dataframe tbody tr th {\n",
       "        vertical-align: top;\n",
       "    }\n",
       "\n",
       "    .dataframe thead th {\n",
       "        text-align: right;\n",
       "    }\n",
       "</style>\n",
       "<table border=\"1\" class=\"dataframe\">\n",
       "  <thead>\n",
       "    <tr style=\"text-align: right;\">\n",
       "      <th></th>\n",
       "      <th>Id</th>\n",
       "      <th>LIMIT_BAL</th>\n",
       "      <th>SEX</th>\n",
       "      <th>EDUCATION</th>\n",
       "      <th>MARRIAGE</th>\n",
       "      <th>AGE</th>\n",
       "      <th>PAY_1</th>\n",
       "      <th>PAY_2</th>\n",
       "      <th>PAY_3</th>\n",
       "      <th>PAY_4</th>\n",
       "      <th>...</th>\n",
       "      <th>BILL_AMT3</th>\n",
       "      <th>BILL_AMT4</th>\n",
       "      <th>BILL_AMT5</th>\n",
       "      <th>BILL_AMT6</th>\n",
       "      <th>PAY_AMT1</th>\n",
       "      <th>PAY_AMT2</th>\n",
       "      <th>PAY_AMT3</th>\n",
       "      <th>PAY_AMT4</th>\n",
       "      <th>PAY_AMT5</th>\n",
       "      <th>PAY_AMT6</th>\n",
       "    </tr>\n",
       "  </thead>\n",
       "  <tbody>\n",
       "    <tr>\n",
       "      <th>0</th>\n",
       "      <td>1</td>\n",
       "      <td>320000</td>\n",
       "      <td>1</td>\n",
       "      <td>1</td>\n",
       "      <td>2</td>\n",
       "      <td>38</td>\n",
       "      <td>-1</td>\n",
       "      <td>-1</td>\n",
       "      <td>-1</td>\n",
       "      <td>-1</td>\n",
       "      <td>...</td>\n",
       "      <td>16770</td>\n",
       "      <td>83490</td>\n",
       "      <td>0</td>\n",
       "      <td>52281</td>\n",
       "      <td>5409</td>\n",
       "      <td>16778</td>\n",
       "      <td>83490</td>\n",
       "      <td>0</td>\n",
       "      <td>52281</td>\n",
       "      <td>15643</td>\n",
       "    </tr>\n",
       "    <tr>\n",
       "      <th>1</th>\n",
       "      <td>2</td>\n",
       "      <td>450000</td>\n",
       "      <td>1</td>\n",
       "      <td>1</td>\n",
       "      <td>1</td>\n",
       "      <td>41</td>\n",
       "      <td>-1</td>\n",
       "      <td>-1</td>\n",
       "      <td>-1</td>\n",
       "      <td>-1</td>\n",
       "      <td>...</td>\n",
       "      <td>8680</td>\n",
       "      <td>113233</td>\n",
       "      <td>5907</td>\n",
       "      <td>0</td>\n",
       "      <td>17913</td>\n",
       "      <td>9278</td>\n",
       "      <td>114865</td>\n",
       "      <td>6411</td>\n",
       "      <td>0</td>\n",
       "      <td>0</td>\n",
       "    </tr>\n",
       "    <tr>\n",
       "      <th>2</th>\n",
       "      <td>3</td>\n",
       "      <td>50000</td>\n",
       "      <td>1</td>\n",
       "      <td>2</td>\n",
       "      <td>2</td>\n",
       "      <td>34</td>\n",
       "      <td>0</td>\n",
       "      <td>0</td>\n",
       "      <td>0</td>\n",
       "      <td>0</td>\n",
       "      <td>...</td>\n",
       "      <td>26135</td>\n",
       "      <td>26730</td>\n",
       "      <td>12180</td>\n",
       "      <td>18179</td>\n",
       "      <td>1410</td>\n",
       "      <td>2000</td>\n",
       "      <td>1167</td>\n",
       "      <td>1017</td>\n",
       "      <td>18179</td>\n",
       "      <td>651</td>\n",
       "    </tr>\n",
       "    <tr>\n",
       "      <th>3</th>\n",
       "      <td>4</td>\n",
       "      <td>220000</td>\n",
       "      <td>1</td>\n",
       "      <td>1</td>\n",
       "      <td>2</td>\n",
       "      <td>33</td>\n",
       "      <td>-2</td>\n",
       "      <td>-2</td>\n",
       "      <td>-2</td>\n",
       "      <td>-2</td>\n",
       "      <td>...</td>\n",
       "      <td>666</td>\n",
       "      <td>1064</td>\n",
       "      <td>707</td>\n",
       "      <td>9213</td>\n",
       "      <td>2108</td>\n",
       "      <td>1332</td>\n",
       "      <td>1064</td>\n",
       "      <td>707</td>\n",
       "      <td>9325</td>\n",
       "      <td>1500</td>\n",
       "    </tr>\n",
       "    <tr>\n",
       "      <th>4</th>\n",
       "      <td>5</td>\n",
       "      <td>20000</td>\n",
       "      <td>2</td>\n",
       "      <td>3</td>\n",
       "      <td>1</td>\n",
       "      <td>39</td>\n",
       "      <td>1</td>\n",
       "      <td>2</td>\n",
       "      <td>2</td>\n",
       "      <td>2</td>\n",
       "      <td>...</td>\n",
       "      <td>8198</td>\n",
       "      <td>9752</td>\n",
       "      <td>9447</td>\n",
       "      <td>10290</td>\n",
       "      <td>1200</td>\n",
       "      <td>0</td>\n",
       "      <td>1700</td>\n",
       "      <td>0</td>\n",
       "      <td>1000</td>\n",
       "      <td>1500</td>\n",
       "    </tr>\n",
       "  </tbody>\n",
       "</table>\n",
       "<p>5 rows × 24 columns</p>\n",
       "</div>"
      ],
      "text/plain": [
       "   Id  LIMIT_BAL  SEX  EDUCATION  MARRIAGE  AGE  PAY_1  PAY_2  PAY_3  PAY_4  \\\n",
       "0   1     320000    1          1         2   38     -1     -1     -1     -1   \n",
       "1   2     450000    1          1         1   41     -1     -1     -1     -1   \n",
       "2   3      50000    1          2         2   34      0      0      0      0   \n",
       "3   4     220000    1          1         2   33     -2     -2     -2     -2   \n",
       "4   5      20000    2          3         1   39      1      2      2      2   \n",
       "\n",
       "   ...  BILL_AMT3  BILL_AMT4  BILL_AMT5  BILL_AMT6  PAY_AMT1  PAY_AMT2  \\\n",
       "0  ...      16770      83490          0      52281      5409     16778   \n",
       "1  ...       8680     113233       5907          0     17913      9278   \n",
       "2  ...      26135      26730      12180      18179      1410      2000   \n",
       "3  ...        666       1064        707       9213      2108      1332   \n",
       "4  ...       8198       9752       9447      10290      1200         0   \n",
       "\n",
       "   PAY_AMT3  PAY_AMT4  PAY_AMT5  PAY_AMT6  \n",
       "0     83490         0     52281     15643  \n",
       "1    114865      6411         0         0  \n",
       "2      1167      1017     18179       651  \n",
       "3      1064       707      9325      1500  \n",
       "4      1700         0      1000      1500  \n",
       "\n",
       "[5 rows x 24 columns]"
      ]
     },
     "execution_count": 105,
     "metadata": {},
     "output_type": "execute_result"
    }
   ],
   "source": [
    "df_test.head()"
   ]
  },
  {
   "cell_type": "markdown",
   "metadata": {},
   "source": [
    "## Modeling"
   ]
  },
  {
   "cell_type": "code",
   "execution_count": 106,
   "metadata": {},
   "outputs": [],
   "source": [
    "# train test\n",
    "X_train=df_train.drop(['Id','Default'],axis=1)\n",
    "X_test=df_test.drop('Id',axis=1)\n",
    "y_train=df_train['Default']\n"
   ]
  },
  {
   "cell_type": "code",
   "execution_count": 107,
   "metadata": {
    "scrolled": true
   },
   "outputs": [],
   "source": [
    "from sklearn.linear_model import LogisticRegression\n",
    "from sklearn.preprocessing import scale\n",
    "\n",
    "# Scaling the data (predictors)\n",
    "Xs_train=scale(X_train)\n",
    "Xs_test=scale(X_test)\n",
    "\n",
    "# instantiate the model \n",
    "logreg = LogisticRegression(solver='lbfgs',multi_class='multinomial',max_iter=100000)\n",
    "\n",
    "# fit the model with data\n",
    "logreg.fit(Xs_train,y_train)\n",
    "\n",
    "#prediction\n",
    "y_pred=logreg.predict(Xs_test)"
   ]
  },
  {
   "cell_type": "markdown",
   "metadata": {},
   "source": [
    "### Training Accuracy"
   ]
  },
  {
   "cell_type": "code",
   "execution_count": 108,
   "metadata": {},
   "outputs": [
    {
     "data": {
      "text/plain": [
       "{0: 5554, 1: 446}"
      ]
     },
     "execution_count": 108,
     "metadata": {},
     "output_type": "execute_result"
    }
   ],
   "source": [
    "unique, counts = np.unique(y_pred, return_counts=True)\n",
    "dict(zip(unique, counts))"
   ]
  },
  {
   "cell_type": "code",
   "execution_count": 109,
   "metadata": {
    "scrolled": true
   },
   "outputs": [
    {
     "data": {
      "text/plain": [
       "{0: 18698, 1: 5302}"
      ]
     },
     "execution_count": 109,
     "metadata": {},
     "output_type": "execute_result"
    }
   ],
   "source": [
    "unique, counts = np.unique(y_train, return_counts=True)\n",
    "dict(zip(unique, counts))"
   ]
  },
  {
   "cell_type": "code",
   "execution_count": 110,
   "metadata": {
    "scrolled": true
   },
   "outputs": [
    {
     "name": "stdout",
     "output_type": "stream",
     "text": [
      "training score : 81.10833333333333\n",
      "lbfgs\n",
      "multinomial\n",
      "100000\n"
     ]
    }
   ],
   "source": [
    "print(\"training score :\",(logreg.score(Xs_train, y_train)*100))\n",
    "print(logreg.solver)\n",
    "print(logreg.multi_class)\n",
    "print(logreg.max_iter)"
   ]
  },
  {
   "cell_type": "markdown",
   "metadata": {},
   "source": [
    "### Output"
   ]
  },
  {
   "cell_type": "code",
   "execution_count": 111,
   "metadata": {},
   "outputs": [],
   "source": [
    "# Creating challenge1solution.csv\n",
    "df_solution['Default']=y_pred\n",
    "df_solution.to_csv('challenge1solution.csv',index=False)\n",
    "\n",
    "# Creating challenge1vector.csv\n",
    "vec=np.concatenate((logreg.intercept_,logreg.coef_[0]))\n",
    "df_vector.loc[0]=vec\n",
    "df_vector.to_csv('challenge1vector.csv',index=False)"
   ]
  }
 ],
 "metadata": {
  "kernelspec": {
   "display_name": "Python 3",
   "language": "python",
   "name": "python3"
  },
  "language_info": {
   "codemirror_mode": {
    "name": "ipython",
    "version": 3
   },
   "file_extension": ".py",
   "mimetype": "text/x-python",
   "name": "python",
   "nbconvert_exporter": "python",
   "pygments_lexer": "ipython3",
   "version": "3.7.3"
  }
 },
 "nbformat": 4,
 "nbformat_minor": 2
}
